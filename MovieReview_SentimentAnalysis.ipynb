{
  "nbformat": 4,
  "nbformat_minor": 0,
  "metadata": {
    "colab": {
      "name": "MovieReview_SentimentAnalysis.ipynb",
      "provenance": [],
      "authorship_tag": "ABX9TyNVqan4GfnXfOhibiKi05sn",
      "include_colab_link": true
    },
    "kernelspec": {
      "display_name": "Python 3",
      "name": "python3"
    },
    "language_info": {
      "name": "python"
    }
  },
  "cells": [
    {
      "cell_type": "markdown",
      "metadata": {
        "id": "view-in-github",
        "colab_type": "text"
      },
      "source": [
        "<a href=\"https://colab.research.google.com/github/nooblette/SentimentAnalysis/blob/main/MovieReview_SentimentAnalysis.ipynb\" target=\"_parent\"><img src=\"https://colab.research.google.com/assets/colab-badge.svg\" alt=\"Open In Colab\"/></a>"
      ]
    },
    {
      "cell_type": "code",
      "metadata": {
        "colab": {
          "base_uri": "https://localhost:8080/",
          "height": 1000
        },
        "id": "AxfLT9k7dZSL",
        "outputId": "22fc5707-54ff-40d8-9b9c-0617c2112a7f"
      },
      "source": [
        "%matplotlib inline\n",
        "#!apt-get update\n",
        "#!apt-get install g++ openjdk-8-jdk python-dev python3-dev\n",
        "#!pip3 install JPype1-py3\n",
        "#!pip3 install konlpy\n",
        "#!JAVA_HOME=\"/usr/lib/jvm/java-1.11.0-openjdk-amd64\"\n",
        "#!pip install sklearn\n",
        "\n",
        "import jpype\n",
        "print(jpype.isJVMStarted()) #return False:not running or 0:running\n",
        "\n",
        "import pandas as pd\n",
        "import numpy as np\n",
        "import matplotlib.pyplot as plt\n",
        "import seaborn as sns\n",
        "import json\n",
        "from urllib.request import urlopen, urlretrieve\n",
        "from urllib.error import URLError, HTTPError\n",
        "import re\n",
        "import nltk\n",
        "nltk.download('punkt')\n",
        "from nltk.tokenize import word_tokenize \n",
        "from konlpy.tag import Okt\n",
        "from sklearn.feature_extraction.text import CountVectorizer, TfidfTransformer\n",
        "from sklearn.model_selection import train_test_split\n",
        "from sklearn.linear_model import LogisticRegression\n",
        "from sklearn.metrics import accuracy_score, precision_score, confusion_matrix\n",
        "\n",
        "import warnings\n",
        "warnings.filterwarnings('ignore')\n",
        "feeling_kw_movie = dict()  # Save feeling keword list for each movie_id\n",
        "\n",
        "stop_words = urlopen(\"https://raw.githubusercontent.com/nooblette/SentimentAnalysis/main/K_Stopword.txt\")\n",
        "stop_words = list((str(stop_words.read(), 'utf-8').split('\\n')))  # 불용어 단어 리스트\n",
        "stop_words += ['영화']  # 영화 리뷰 특화 불용어 단어 리스트 추가\n",
        "\n",
        "def rating_to_label(rating):\n",
        "    if rating > 5:\n",
        "        return 1\n",
        "    else:\n",
        "        return 0\n",
        "\n",
        "def apply_regular_expression(text):\n",
        "    hangul = re.compile('[^ ㄱ-ㅣ 가-힣|0-9]')  # 한글 추출 규칙: 띄어 쓰기(1 개)를 포함한 한글\n",
        "    result = hangul.sub('', text)  # 위에 설정한 \"hangul\"규칙을 \"text\"에 적용(.sub)시킴\n",
        "    return result\n",
        "\n",
        "def remove_stopword(text):\n",
        "    return [word for word in text if not word in stop_words]\n",
        "\n",
        "def text_cleaning(text):\n",
        "    corpus = apply_regular_expression(text)  # 특수문자 제거\n",
        "    okt = Okt()  # 명사 형태소 추출 함수\n",
        "    corpus = okt.nouns(corpus)  # 명사만 추출\n",
        "    corpus = [x for x in corpus if len(x) > 1]  # 두 글자 이상 단어만 사용\n",
        "    corpus = remove_stopword(corpus)  # 불용어 제거\n",
        "    return corpus\n",
        "\n",
        "movie_id_feeling_keywords = dict()  # 영화별 긍정, 부정 키워드 리스트 저장\n",
        "\n",
        "for i in range(10001, 10010):\n",
        "#for i in range(10001, 142622):  # 데이터 부족으로 모든 리뷰에 대해 진행 불가\n",
        "  try:\n",
        "    movie_id = str(i)\n",
        "    # ***************************** #\n",
        "    # ****** 데이터 가져오기 ****** #\n",
        "    # ***************************** #\n",
        "    with urlopen(\"https://raw.githubusercontent.com/e9t/nsmc/master/raw/\" + movie_id + \".json\") as url1, urlopen(\"https://raw.githubusercontent.com/nooblette/SentimentAnalysis/main/new_review_data/jsonfile_raw/\" + movie_id + \".json\") as url2:\n",
        "      review_json_file1 = url1.read()\n",
        "      review_json = json.loads(review_json_file1.decode('utf-8'))\n",
        "\n",
        "      review_json_file2 = url2.read()\n",
        "      review_json += json.loads(review_json_file2)\n",
        "\n",
        "      # review, rating, movie_id = review_json[idx]['review'], review_json[idx]['rating'], review_json[idx]['movie_id']\n",
        "\n",
        "      vect = CountVectorizer(tokenizer = lambda x: text_cleaning(x))\n",
        "      bow_vect = vect.fit_transform(review['review'] for review in review_json)\n",
        "      word_list = vect.get_feature_names()\n",
        "      count_list = bow_vect.toarray().sum(axis=0)\n",
        "      # \"단어\" - \"총 등장 횟수\" Matching\n",
        "      word_count_dict = dict(zip(word_list, count_list))\n",
        "\n",
        "\n",
        "\n",
        "\n",
        "      # ************************** #\n",
        "      # ********* TF-IDF ********* #\n",
        "      # ************************** #\n",
        "      tfidf_vectorizer = TfidfTransformer()\n",
        "      tf_idf_vect = tfidf_vectorizer.fit_transform(bow_vect)\n",
        "      # row -> 한 리뷰를 의미, column -> 한 단어를 의미.\n",
        "\n",
        "      invert_index_vectorizer = {v: k for k, v in vect.vocabulary_.items()}\n",
        "\n",
        "      count = {1:0, 0:0}  # 긍정 리뷰와 부정 리뷰의 개수 저장\n",
        "      for review in review_json:\n",
        "        review['label'] = rating_to_label(int(review['rating']))\n",
        "        count[review['label']] += 1\n",
        "\n",
        "      # 학습 데이터가 충분하지 않은 경우 우선 넘어가도록 진행\n",
        "      if count[0] < 2 or count[1] < 2:\n",
        "        continue\n",
        "\n",
        "      x = tf_idf_vect\n",
        "      y = [review['label'] for review in review_json]\n",
        "      x_train, x_test, y_train, y_test = train_test_split(x, y, test_size = 0.3, random_state=1)\n",
        "\n",
        "      # train, test data set size 확인\n",
        "      print(\"movie_id :\", movie_id, end = ' ')\n",
        "      print(\"train data :\", x_train.shape, len(y_train), end=\"  /  \")\n",
        "      print(\"test data :\", x_test.shape, len(y_test))\n",
        "\n",
        "\n",
        "\n",
        "      # ***************************** #\n",
        "      # ********* 학습 진행 ********* #\n",
        "      # ***************************** #\n",
        "      # fit in training set\n",
        "      lr = LogisticRegression(random_state = 0)\n",
        "      lr.fit(x_train, y_train)\n",
        "\n",
        "      # predict in test set\n",
        "      y_pred = lr.predict(x_test)\n",
        "\n",
        "\n",
        "\n",
        "      # ***************************** #\n",
        "      # ********* 모델 평가 ********* #\n",
        "      # ***************************** #\n",
        "      # classification result for test set\n",
        "\n",
        "      #print('accuracy: %.2f' % accuracy_score(y_test, y_pred))\n",
        "      #print('precision: %.2f' % precision_score(y_test, y_pred))\n",
        "\n",
        "      confu = confusion_matrix(y_true = y_test, y_pred = y_pred)\n",
        "\n",
        "      plt.figure(figsize=(4, 3))\n",
        "      sns.heatmap(confu, annot=True, annot_kws={'size':15}, cmap='OrRd', fmt='.10g')\n",
        "      plt.title('Confusion Matrix')\n",
        "      plt.show()\n",
        "\n",
        "\n",
        "      # ***************************************** #\n",
        "      # ********* 긍정 부정 키워드 분석 ********* #\n",
        "      # ***************************************** #\n",
        "      coef_pos_index = sorted(((value, index) for index, value in enumerate(lr.coef_[0])), reverse = True)  # 긍정 키워드 리스트\n",
        "      coef_neg_index = sorted(((value, index) for index, value in enumerate(lr.coef_[0])), reverse = False) # 부정 키워드 리스트\n",
        "\n",
        "      invert_index_vectorizer = {v: k for k, v in vect.vocabulary_.items()}\n",
        "\n",
        "      # 키워드 리스트 출력\n",
        "      '''\n",
        "      print(\"긍정 키워드 top 20\")\n",
        "      for coef in coef_pos_index[:20]:  # 긍정 키워드 top 20\n",
        "        print(invert_index_vectorizer[coef[1]], coef[0])\n",
        "\n",
        "      print(\"\\n부정 키워드 top 20\")\n",
        "      for coef in coef_neg_index[:20]:  # 부정 키워드 top 20\n",
        "        print(invert_index_vectorizer[coef[1]], coef[0])\n",
        "      '''\n",
        "\n",
        "      # 영화별로 키워드 리스트 저장\n",
        "      movie_id_feeling_keywords[movie_id] = {\n",
        "          'positive' : [[invert_index_vectorizer[coef[1]], coef[0]] for coef in coef_pos_index[:20] if coef[0] > 0.0],\n",
        "          'negative' : [[invert_index_vectorizer[coef[1]], coef[0]] for coef in coef_neg_index[:20] if coef[0] < 0.0]\n",
        "      }\n",
        "\n",
        "  except HTTPError as e:\n",
        "    continue\n",
        "\n",
        "print(\"SAMPLE OUTPUT movie_id 10001 ~ 10009\")\n",
        "for i in range(10001, 10010):\n",
        "  i = str(i)\n",
        "  print('--- movie_id is ', i)\n",
        "  print('positive keywords', movie_id_feeling_keywords[i]['positive'])\n",
        "  print('negative keywords', movie_id_feeling_keywords[i]['negative'])\n",
        "  print('\\n')\n",
        "\n",
        "f = open(\"output.txt\", \"w\", encoding = 'utf-8')\n",
        "\n",
        "for movie_id, keywords in movie_id_feeling_keywords.items():\n",
        "  positive = keywords['positive']\n",
        "  negative = keywords['negative']\n",
        "  f.write(f'{movie_id} : {positive}, {negative}\\n')\n",
        "\n",
        "f.close()\n",
        "\n",
        "\n",
        "# References\n",
        "# https://hyemin-kim.github.io/2020/08/29/E-Python-TextMining-2/\n",
        "# https://rfriend.tistory.com/475\n",
        "# https://www.ranks.nl/stopwords/korean\n",
        "# https://shakeratos.tistory.com/18"
      ],
      "execution_count": 17,
      "outputs": [
        {
          "output_type": "stream",
          "name": "stdout",
          "text": [
            "True\n",
            "[nltk_data] Downloading package punkt to /root/nltk_data...\n",
            "[nltk_data]   Package punkt is already up-to-date!\n",
            "movie_id : 10001 train data : (287, 674) 287  /  test data : (123, 674) 123\n"
          ]
        },
        {
          "output_type": "display_data",
          "data": {
            "image/png": "[encoded data removed]",
            "text/plain": [
              "<Figure size 288x216 with 2 Axes>"
            ]
          },
          "metadata": {
            "needs_background": "light"
          }
        },
        {
          "output_type": "stream",
          "name": "stdout",
          "text": [
            "movie_id : 10002 train data : (287, 686) 287  /  test data : (123, 686) 123\n"
          ]
        },
        {
          "output_type": "display_data",
          "data": {
            "image/png": "[encoded data removed]",
            "text/plain": [
              "<Figure size 288x216 with 2 Axes>"
            ]
          },
          "metadata": {
            "needs_background": "light"
          }
        },
        {
          "output_type": "stream",
          "name": "stdout",
          "text": [
            "movie_id : 10003 train data : (287, 776) 287  /  test data : (123, 776) 123\n"
          ]
        },
        {
          "output_type": "display_data",
          "data": {
            "image/png": "[encoded data removed]",
            "text/plain": [
              "<Figure size 288x216 with 2 Axes>"
            ]
          },
          "metadata": {
            "needs_background": "light"
          }
        },
        {
          "output_type": "stream",
          "name": "stdout",
          "text": [
            "movie_id : 10004 train data : (287, 582) 287  /  test data : (123, 582) 123\n"
          ]
        },
        {
          "output_type": "display_data",
          "data": {
            "image/png": "[encoded data removed]",
            "text/plain": [
              "<Figure size 288x216 with 2 Axes>"
            ]
          },
          "metadata": {
            "needs_background": "light"
          }
        },
        {
          "output_type": "stream",
          "name": "stdout",
          "text": [
            "movie_id : 10005 train data : (287, 739) 287  /  test data : (123, 739) 123\n"
          ]
        },
        {
          "output_type": "display_data",
          "data": {
            "image/png": "[encoded data removed]",
            "text/plain": [
              "<Figure size 288x216 with 2 Axes>"
            ]
          },
          "metadata": {
            "needs_background": "light"
          }
        },
        {
          "output_type": "stream",
          "name": "stdout",
          "text": [
            "movie_id : 10006 train data : (287, 664) 287  /  test data : (123, 664) 123\n"
          ]
        },
        {
          "output_type": "display_data",
          "data": {
            "image/png": "[encoded data removed]",
            "text/plain": [
              "<Figure size 288x216 with 2 Axes>"
            ]
          },
          "metadata": {
            "needs_background": "light"
          }
        },
        {
          "output_type": "stream",
          "name": "stdout",
          "text": [
            "movie_id : 10007 train data : (287, 647) 287  /  test data : (123, 647) 123\n"
          ]
        },
        {
          "output_type": "display_data",
          "data": {
            "image/png": "[encoded data removed]",
            "text/plain": [
              "<Figure size 288x216 with 2 Axes>"
            ]
          },
          "metadata": {
            "needs_background": "light"
          }
        },
        {
          "output_type": "stream",
          "name": "stdout",
          "text": [
            "movie_id : 10008 train data : (245, 510) 245  /  test data : (105, 510) 105\n"
          ]
        },
        {
          "output_type": "display_data",
          "data": {
            "image/png": "[encoded data removed]",
            "text/plain": [
              "<Figure size 288x216 with 2 Axes>"
            ]
          },
          "metadata": {
            "needs_background": "light"
          }
        },
        {
          "output_type": "stream",
          "name": "stdout",
          "text": [
            "movie_id : 10009 train data : (154, 270) 154  /  test data : (67, 270) 67\n"
          ]
        },
        {
          "output_type": "display_data",
          "data": {
            "image/png": "[encoded data removed]",
            "text/plain": [
              "<Figure size 288x216 with 2 Axes>"
            ]
          },
          "metadata": {
            "needs_background": "light"
          }
        },
        {
          "output_type": "stream",
          "name": "stdout",
          "text": [
            "SAMPLE OUTPUT movie_id 10001 ~ 10009\n",
            "--- movie_id is  10001\n",
            "positive keywords [['인생', 0.3194403031239633], ['최고', 0.19584517435557483], ['프레', 0.17426852294063136], ['토토', 0.15974884884843338], ['사랑', 0.14882861957603935], ['눈물', 0.14014117117834937], ['음악', 0.11296642809110666], ['장면', 0.11176768336077118], ['마지막', 0.10559259917048062], ['나이', 0.08524593980812994], ['생각', 0.07884250880655827], ['처음', 0.07664053791560925], ['시절', 0.07474554488178022], ['이유', 0.0738935454777724], ['모리꼬', 0.07223567903733649], ['보고', 0.07195746909014608], ['가슴', 0.07138336582235177], ['가장', 0.07111837701435891], ['감독판', 0.06744094896928757], ['모든', 0.06614931795085245]]\n",
            "negative keywords [['포인트', -0.8418617664383489], ['극찬', -0.7499501510478083], ['편집', -0.6476082818606954], ['노잼', -0.5668059682874572], ['이영화', -0.5623202861535079], ['대체', -0.5304733457379908], ['보통', -0.5238067796977194], ['수준', -0.5238067796977194], ['치면', -0.46640763494844095], ['감흥', -0.4601348762290054], ['워낙', -0.4601348762290054], ['나중', -0.39010273075956325], ['편집자', -0.34883220242026075], ['지금', -0.3072716353509198], ['작품', -0.28667069432809605], ['환상', -0.28354588702383793], ['순간', -0.26985211131743797], ['감독', -0.2685335148879217], ['한번', -0.23651631251270952], ['거품', -0.23450897985685487]]\n",
            "\n",
            "\n",
            "--- movie_id is  10002\n",
            "positive keywords [['최고', 0.15532312893841632], ['인생', 0.08322404102091856], ['다시', 0.07965476468477103], ['정말', 0.07513060320945436], ['명작', 0.07461903461746319], ['진짜', 0.0731897246971633], ['스토리', 0.0699663127456405], ['미래', 0.0595662501805483], ['보고', 0.051711860849901065], ['생각', 0.0514150439185339], ['요즘', 0.047356259928555765], ['오락', 0.04669772951205726], ['사람', 0.04315578163712382], ['시간여행', 0.038128639077312156], ['이제', 0.03749108484542967], ['모든', 0.03368739776640983], ['상상', 0.03245491966053487], ['옛날', 0.031092288189216687], ['현재', 0.028412048805671847], ['그냥', 0.027734314124413188]]\n",
            "negative keywords [['안감', -0.5953145239571762], ['평점', -0.5519964690999565], ['이해', -0.5193920393951336], ['거품', -0.2826825334682457], ['기점', -0.2826825334682457], ['낼때', -0.2826825334682457], ['메시지', -0.2826825334682457], ['성능', -0.2826825334682457], ['소위', -0.2826825334682457], ['시공간', -0.2826825334682457], ['찬사', -0.2826825334682457], ['관통', -0.24185162435514815], ['타임', -0.23275764453588565], ['초월', -0.19874868365172407], ['정도', -0.15650176318101494], ['작품', -0.134922934281626], ['시대', -0.09774691624293466], ['지금', -0.027775876919978102]]\n",
            "\n",
            "\n",
            "--- movie_id is  10003\n",
            "positive keywords [['명작', 0.4632851851425807], ['최고', 0.3799169870872486], ['미래', 0.2554026909880974], ['인생', 0.1965969640643182], ['보고', 0.185971536825969], ['재미', 0.1780623360620586], ['과거', 0.13988862695479395], ['컵스', 0.12854631069662148], ['자동차', 0.12787422849252694], ['상상력', 0.1267741152758716], ['편이', 0.12433062388010298], ['장면', 0.12271728769150372], ['연출', 0.11557828202478572], ['시대', 0.11456064044171028], ['나이', 0.10775959601331879], ['역시', 0.1039436751756887], ['기대', 0.10317724793347888], ['오늘', 0.10072466574666929], ['편도', 0.10040385090952748], ['음악', 0.09891260855808115]]\n",
            "negative keywords [['진짜', -0.8108157443948876], ['시리즈', -0.6767919538075664], ['워낙', -0.6407674773098112], ['정말', -0.5632068103987549], ['아마추어', -0.5566049462158169], ['달리', -0.5471774093494658], ['민폐', -0.5445640649676787], ['주인공', -0.5210557469287989], ['영상', -0.51221040817696], ['각본', -0.5121029898941529], ['캐릭터', -0.478336736428329], ['시즌', -0.47704392113992056], ['가요', -0.4735523014503633], ['호평', -0.4735523014503633], ['정도', -0.4547729367740191], ['먹기', -0.4524782698337556], ['미끼', -0.4524782698337556], ['우려', -0.4524782698337556], ['재탕', -0.4524782698337556], ['내내', -0.4496669188731692]]\n",
            "\n",
            "\n",
            "--- movie_id is  10004\n",
            "positive keywords [['최고', 0.5649967774311097], ['명작', 0.5549906601939675], ['시리즈', 0.5480033025677497], ['백투더퓨처', 0.31857631841599526], ['미래', 0.262656466821491], ['편이', 0.26026406148460923], ['다시', 0.23569777670491132], ['퓨처', 0.20458922045623376], ['시간여행', 0.19980315760272327], ['진짜', 0.18379131271180152], ['엔딩', 0.17711004073223863], ['편의', 0.17658082540114664], ['보고', 0.17392460621428715], ['박사', 0.15877623849165012], ['퓨쳐', 0.15495102362264576], ['결말', 0.15381817237545464], ['오락', 0.1527829370241508], ['시대', 0.15005182235845246], ['투더', 0.14209163140080383], ['작품', 0.13609416652287343]]\n",
            "negative keywords [['이건', -1.3256034503819034], ['중간', -1.0801884200337966], ['지루함', -0.9063226227578715], ['마지막', -0.9028000418692035], ['명성', -0.8377224738823914], ['기차씬', -0.81919204284615], ['기분', -0.812883224907994], ['제품', -0.7750572909552472], ['내내', -0.7672756816652272], ['당시', -0.722662604170037], ['이야기', -0.7013408907070005], ['으리', -0.6929872739210137], ['열차', -0.6791295872578061], ['별로', -0.66529094809893], ['주인공', -0.6282163987129867], ['의리', -0.6280674063165802], ['정도', -0.5974562582014943], ['메시지', -0.5740495814026839], ['재미', -0.5283608562221572], ['전개', -0.4873570870974361]]\n",
            "\n",
            "\n",
            "--- movie_id is  10005\n",
            "positive keywords [['스타워즈', 0.4787034303180097], ['시작', 0.33608513044992994], ['명작', 0.32783517891626235], ['전설', 0.3085925599892827], ['정도', 0.29231064504761584], ['최고', 0.26215155589287215], ['작품', 0.26189187156091864], ['기술', 0.22083533117429968], ['다시', 0.21780302488348588], ['상상력', 0.21423795515731456], ['레전드', 0.17077411298255332], ['에피소드', 0.1692457048007426], ['영상', 0.16881022703150322], ['세기', 0.1542787318645811], ['아주', 0.14200207434954348], ['역사', 0.13303093236762042], ['역시', 0.13132915001470458], ['진짜', 0.12218770356996735], ['먼저', 0.1218365079314111], ['신화', 0.12179026883026779]]\n",
            "negative keywords [['처음', -1.0388525576646508], ['지금', -0.9324035316076553], ['실망', -0.737284640633468], ['혁신', -0.7170380025763555], ['매우', -0.6829219616645694], ['시대', -0.5380883530029037], ['당시', -0.5196898028161832], ['존나', -0.49463527429317367], ['예전', -0.493894267551987], ['대사', -0.45330011440187995], ['거울', -0.4478675290284233], ['쌍판', -0.4478675290284233], ['오덕', -0.4478675290284233], ['쓰레기', -0.4445460812869079], ['생각', -0.4299365998487088], ['본대', -0.42544124518893595], ['점수', -0.42544124518893595], ['별로', -0.42413646491205886], ['거리', -0.4191589359740548], ['일지', -0.40607008626937724]]\n",
            "\n",
            "\n",
            "--- movie_id is  10006\n",
            "positive keywords [['최고', 0.6500034690975091], ['스타워즈', 0.5188998588624685], ['시리즈', 0.4220485715741637], ['명작', 0.3847780551299504], ['시대', 0.3051749954454618], ['작품', 0.2722579652780768], ['가장', 0.2718043626152266], ['걸작', 0.19626352421853704], ['전설', 0.17627286943820172], ['반전', 0.17540632205824191], ['편이', 0.16966361381648762], ['완전', 0.16801371064445256], ['베이', 0.16743452906216452], ['명대사', 0.15601797286789337], ['역시', 0.1459417380578525], ['제국', 0.1402736700217478], ['진짜', 0.13940581909680755], ['앞서', 0.12973032799404738], ['다시', 0.12813232559942542], ['역습', 0.12729238722926584]]\n",
            "negative keywords [['코드', -0.9944593671292298], ['재미', -0.8854507897473117], ['보고', -0.8495419849497995], ['노잼', -0.8450091572744642], ['뭔가', -0.8313652403560616], ['기도', -0.8305656838176821], ['판단', -0.8305656838176821], ['대감', -0.6621504515672895], ['츄바카', -0.6612914155223283], ['스톤', -0.6261082578373081], ['윌리엄스', -0.6261082578373081], ['속편', -0.5991209647189621], ['목소리', -0.5888265999601354], ['안해', -0.5707203393390509], ['막장', -0.45878412665706425], ['포장', -0.4215529649976017], ['향수', -0.4215529649976017], ['구식', -0.3428799414451976], ['늙탱', -0.3428799414451976], ['어벤져스', -0.3428799414451976]]\n",
            "\n",
            "\n",
            "--- movie_id is  10007\n",
            "positive keywords [['마지막', 0.43544383861004454], ['시리즈', 0.372274524710664], ['마무리', 0.36404985412786484], ['에피소드', 0.3157535336140993], ['스타워즈', 0.3108903100132713], ['아나킨', 0.2944154693386098], ['전설', 0.28157848082508075], ['최고', 0.2752352746710227], ['역시', 0.2560683781785255], ['감동', 0.23364335349271168], ['루크', 0.22654036370678032], ['명작', 0.21812061427299584], ['베이', 0.2164077192974497], ['편이', 0.20499857543092204], ['다시', 0.19718327367950544], ['아들', 0.18462369266818665], ['개봉', 0.17951835978791772], ['주행', 0.17627673612458897], ['스카이워커', 0.15975737492275766], ['작품', 0.155509505676783]]\n",
            "negative keywords [['편의', -1.4873918030698052], ['스토리', -1.30381276232127], ['보신', -1.012246749577522], ['지루함', -0.9432979812195744], ['점주', -0.9023490500517968], ['전개', -0.8050519074962348], ['보고', -0.783194094044435], ['대체', -0.7581832897653269], ['가장', -0.6867251097289672], ['기술', -0.6581803793230413], ['아버지', -0.5958279568139547], ['이야기', -0.58324004961752], ['감독', -0.5681677146644838], ['비주', -0.5664926916527145], ['다스베이더', -0.553708595613851], ['액션씬', -0.5258133400694728], ['구려', -0.3190450569913112], ['어빈', -0.3190450569913112], ['연출', -0.3190450569913112], ['발전', -0.2787528449046358]]\n",
            "\n",
            "\n",
            "--- movie_id is  10008\n",
            "positive keywords [['슈퍼맨', 1.0377313366220244], ['정말', 0.5999431890130312], ['최고', 0.5948272256714453], ['크리스토퍼', 0.5783117263493796], ['영웅', 0.5208623271063113], ['명작', 0.4948671490292248], ['리브', 0.4603569783841997], ['수퍼맨', 0.2944399004165603], ['보고', 0.27215888241785], ['기억', 0.26693023007549566], ['히어로', 0.2618127793811454], ['전설', 0.2615133855342661], ['생각', 0.22680318548109007], ['음악', 0.22603721289910825], ['몇번', 0.2222773104987941], ['시작', 0.20764037126552037], ['역사', 0.2021711575823395], ['자체', 0.2011716899493769], ['슈퍼히어로', 0.19971271319121447], ['충격', 0.18991755190758705]]\n",
            "negative keywords [['팬티', -1.5609972382363013], ['서장', -1.363857743678105], ['보기', -1.274917435687108], ['이건', -1.0424542497307805], ['오락', -0.7932782333929425], ['본질', -0.7916945038505488], ['아무', -0.7916945038505488], ['평점', -0.6198930704795839], ['선임', -0.5598125523008424], ['최우', -0.5598125523008424], ['지금', -0.5274389668182837], ['안녕', -0.49297624298184817], ['차원', -0.49297624298184817], ['둘째', -0.4867665962123455], ['의미', -0.4867665962123455], ['미취', -0.4813590710173324], ['아동', -0.4813590710173324], ['재섭', -0.4262300951399688], ['세트', -0.42575658958338053], ['수을', -0.42575658958338053]]\n",
            "\n",
            "\n",
            "--- movie_id is  10009\n",
            "positive keywords [['최고', 0.5926343403729198], ['시리즈', 0.372822239175207], ['정말', 0.3172495509641293], ['역시', 0.30179679133673026], ['지금', 0.24874652853909113], ['크리스토퍼', 0.2166645984407338], ['기억', 0.20581883266964154], ['판타지', 0.18964586076538095], ['감동', 0.18456469242290569], ['재미', 0.16776642977302333], ['작품', 0.16183349810999897], ['이름', 0.14502821672997307], ['로망', 0.14071016123125246], ['영상', 0.13980539094628736], ['당시', 0.13499628596850227], ['나름', 0.1340284783084926], ['버젼', 0.1306119825176877], ['추억', 0.12229110191268694], ['만하', 0.12229110191268694], ['오락', 0.12092617303001159]]\n",
            "negative keywords [['성조기', -1.37353196543536], ['영웅', -1.019210480596298], ['분위기', -0.8088382923724997], ['액션', -0.8088382923724997], ['코미디', -0.8088382923724997], ['슈퍼맨', -0.7334407857000114], ['거대', -0.6644177701236954], ['위기', -0.6644177701236954], ['초능력', -0.6644177701236954], ['사랑', -0.6283810553164288], ['위해', -0.6283810553164288], ['야심', -0.5278933912472462], ['어린이', -0.5278933912472462], ['전형', -0.521345519099014], ['고뇌', -0.45713160064662267], ['주의', -0.43395769295506836], ['정도', -0.3914097126595487], ['전편', -0.3738250873940649], ['우상', -0.2987122530693877], ['미국', -0.07119045477298004]]\n",
            "\n",
            "\n"
          ]
        }
      ]
    },
    {
      "cell_type": "markdown",
      "metadata": {
        "id": "POqN1IjNVbFd"
      },
      "source": [
        "# 새 섹션"
      ]
    },
    {
      "cell_type": "code",
      "metadata": {
        "id": "FfeZ61V1tl8o"
      },
      "source": [
        "\"\""
      ],
      "execution_count": null,
      "outputs": []
    }
  ]
}